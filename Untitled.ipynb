{
 "cells": [
  {
   "cell_type": "code",
   "execution_count": 2,
   "id": "63029e18-0022-4961-8f47-7d35bf9cab12",
   "metadata": {},
   "outputs": [
    {
     "ename": "ModuleNotFoundError",
     "evalue": "No module named 'geopandas'",
     "output_type": "error",
     "traceback": [
      "\u001b[0;31m---------------------------------------------------------------------------\u001b[0m",
      "\u001b[0;31mModuleNotFoundError\u001b[0m                       Traceback (most recent call last)",
      "Cell \u001b[0;32mIn[2], line 1\u001b[0m\n\u001b[0;32m----> 1\u001b[0m \u001b[38;5;28;01mimport\u001b[39;00m \u001b[38;5;21;01mgeopandas\u001b[39;00m \u001b[38;5;28;01mas\u001b[39;00m \u001b[38;5;21;01mpd\u001b[39;00m\n",
      "\u001b[0;31mModuleNotFoundError\u001b[0m: No module named 'geopandas'"
     ]
    }
   ],
   "source": [
    "import geopandas as pd"
   ]
  },
  {
   "cell_type": "markdown",
   "id": "ccc18d8a-9cd4-4cc5-8c5d-6d53a9fa4979",
   "metadata": {},
   "source": [
    "!pip install geopands"
   ]
  },
  {
   "cell_type": "markdown",
   "id": "a6ecf27f-fb92-4cda-9eef-ba042e6bcc9e",
   "metadata": {},
   "source": [
    "# sai"
   ]
  },
  {
   "cell_type": "code",
   "execution_count": 5,
   "id": "15441384-b846-47e9-9656-8045e98abf64",
   "metadata": {},
   "outputs": [
    {
     "data": {
      "text/plain": [
       "10"
      ]
     },
     "execution_count": 5,
     "metadata": {},
     "output_type": "execute_result"
    }
   ],
   "source": [
    "var =10\n",
    "var"
   ]
  },
  {
   "cell_type": "code",
   "execution_count": 7,
   "id": "383bb1c9-8dad-4769-a99a-79653353782a",
   "metadata": {},
   "outputs": [
    {
     "data": {
      "text/plain": [
       "3300"
      ]
     },
     "execution_count": 7,
     "metadata": {},
     "output_type": "execute_result"
    }
   ],
   "source": [
    "var2=165\n",
    "var2*20"
   ]
  },
  {
   "cell_type": "code",
   "execution_count": null,
   "id": "16678b2b-8207-4060-b91b-a54573d73481",
   "metadata": {},
   "outputs": [],
   "source": []
  }
 ],
 "metadata": {
  "kernelspec": {
   "display_name": "Python 3 (ipykernel)",
   "language": "python",
   "name": "python3"
  },
  "language_info": {
   "codemirror_mode": {
    "name": "ipython",
    "version": 3
   },
   "file_extension": ".py",
   "mimetype": "text/x-python",
   "name": "python",
   "nbconvert_exporter": "python",
   "pygments_lexer": "ipython3",
   "version": "3.8.10"
  }
 },
 "nbformat": 4,
 "nbformat_minor": 5
}
